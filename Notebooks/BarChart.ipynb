{
 "cells": [
  {
   "cell_type": "code",
   "execution_count": 1,
   "metadata": {},
   "outputs": [],
   "source": [
    "from pyqtgraph.opengl import GLMeshItem\n",
    "from pyqtgraph.opengl import MeshData\n",
    "import pyqtgraph.opengl as gl\n",
    "import numpy as np\n",
    "import functools \n",
    "\n",
    "class GLBarGraphItem(GLMeshItem):\n",
    "    def __init__(self, pos, size):\n",
    "        \"\"\"\n",
    "        pos is (...,3) array of the bar positions (the corner of each bar)\n",
    "        size is (...,3) array of the sizes of each bar\n",
    "        \"\"\"\n",
    "        nCubes = functools.reduce(lambda a,b: a*b, pos.shape[:-1])\n",
    "        cubeVerts = np.mgrid[0:2,0:2,0:2].reshape(3,8).transpose().reshape(1,8,3)\n",
    "        cubeFaces = np.array([\n",
    "            [0,1,2], [3,2,1],\n",
    "            [4,5,6], [7,6,5],\n",
    "            [0,1,4], [5,4,1],\n",
    "            [2,3,6], [7,6,3],\n",
    "            [0,2,4], [6,4,2],\n",
    "            [1,3,5], [7,5,3]]).reshape(1,12,3)\n",
    "        size = size.reshape((nCubes, 1, 3))\n",
    "        pos = pos.reshape((nCubes, 1, 3))\n",
    "        verts = cubeVerts * size + pos\n",
    "        faces = cubeFaces + (np.arange(nCubes) * 8).reshape(nCubes,1,1)\n",
    "        md = gl.MeshData(verts.reshape(nCubes*8,3), faces.reshape(nCubes*12,3))\n",
    "        \n",
    "        GLMeshItem.__init__(self, meshdata=md, shader='shaded', smooth=False)"
   ]
  },
  {
   "cell_type": "code",
   "execution_count": null,
   "metadata": {},
   "outputs": [],
   "source": [
    "from pyqtgraph.Qt import QtCore, QtGui\n",
    "import pyqtgraph.opengl as gl\n",
    "import numpy as np\n",
    "\n",
    "app = QtGui.QApplication([])\n",
    "w = gl.GLViewWidget()\n",
    "w.opts['distance'] = 100\n",
    "w.showMaximized()\n",
    "w.setWindowTitle('pyqtgraph example: GLViewWidget')\n",
    "\n",
    "ax = gl.GLAxisItem()\n",
    "ax.setSize(20,20,20)\n",
    "w.addItem(ax)\n",
    "\n",
    "pos = np.mgrid[0:10, 0:10, 0:1].reshape(3,10,10).transpose(1,2,0)\n",
    "\n",
    "size = np.empty((10,10,3))\n",
    "size[...,0:2] = 0.4\n",
    "size[...,2] = np.random.normal(size=(10,10))\n",
    "  \n",
    "bg = GLBarGraphItem(pos, size)\n",
    "w.addItem(bg)\n",
    "  \n",
    "if __name__ == '__main__':\n",
    "    import sys\n",
    "    if (sys.flags.interactive != 1) or not hasattr(QtCore, 'PYQT_VERSION'):\n",
    "        QtGui.QApplication.instance().exec_()"
   ]
  }
 ],
 "metadata": {
  "kernelspec": {
   "display_name": "Python 3",
   "language": "python",
   "name": "python3"
  },
  "language_info": {
   "codemirror_mode": {
    "name": "ipython",
    "version": 3
   },
   "file_extension": ".py",
   "mimetype": "text/x-python",
   "name": "python",
   "nbconvert_exporter": "python",
   "pygments_lexer": "ipython3",
   "version": "3.7.4"
  }
 },
 "nbformat": 4,
 "nbformat_minor": 2
}
