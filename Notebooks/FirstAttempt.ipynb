{
 "cells": [
  {
   "cell_type": "code",
   "execution_count": 1,
   "metadata": {},
   "outputs": [],
   "source": [
    "import sys\n",
    "sys.path.insert(0, '/home/maria/Documents/EnsemblePursuitViz/EnsemblePursuit_modified')\n",
    "from EnsemblePursuit import new_ensemble\n",
    "from EnsemblePursuit import EnsemblePursuit\n",
    "from scipy.io import loadmat\n",
    "import numpy as np\n",
    "import pyqtgraph as pg\n",
    "from sklearn.preprocessing import MinMaxScaler"
   ]
  },
  {
   "cell_type": "code",
   "execution_count": 2,
   "metadata": {},
   "outputs": [
    {
     "name": "stdout",
     "output_type": "stream",
     "text": [
      "dict_keys(['__header__', '__version__', '__globals__', 'db', 'med', 'stat', 'stim'])\n"
     ]
    }
   ],
   "source": [
    "data=loadmat('/media/maria/DATA1/Documents/old_data/natimg2800_white_M170717_MP034_2017-09-14.mat')\n",
    "print(data.keys())"
   ]
  },
  {
   "cell_type": "code",
   "execution_count": 3,
   "metadata": {},
   "outputs": [
    {
     "name": "stdout",
     "output_type": "stream",
     "text": [
      "(4040, 9479)\n",
      "[[  0.         54.005295  164.82872   ...   0.          0.\n",
      "    0.       ]\n",
      " [ 19.92929     8.745245    0.        ...   0.          0.\n",
      "    0.       ]\n",
      " [ 20.75058    26.050444   13.1513    ...   0.          0.\n",
      "    0.       ]\n",
      " ...\n",
      " [  6.8490963   2.4447098   0.        ...   0.          0.\n",
      "    0.       ]\n",
      " [  6.450582    0.          0.        ...   0.          0.\n",
      "    0.       ]\n",
      " [  3.578312    0.          7.9258285 ...   0.          0.\n",
      "    0.       ]]\n",
      "(4040, 10000)\n"
     ]
    }
   ],
   "source": [
    "dat=data['stim'][0]['resp'][0]\n",
    "#dat['stim'][0]['resp'][0]\n",
    "print(dat.shape)\n",
    "dat=np.pad(dat, ((0,0),(0, 10000-9479)), 'constant', constant_values=(0, 0))\n",
    "print(dat)\n",
    "print(dat.shape)"
   ]
  },
  {
   "cell_type": "code",
   "execution_count": 4,
   "metadata": {
    "scrolled": true
   },
   "outputs": [],
   "source": [
    "#Fit model\n",
    "#model=EnsemblePursuit(n_components=20,lam=0.01,n_kmeans=25)\n",
    "#model.fit(dat)\n",
    "#cost_deltas=model.cost_deltas\n",
    "#print(cost_deltas)\n",
    "#np.save('cost_deltas.npy',cost_deltas)\n",
    "cost_deltas=np.load('cost_deltas.npy',allow_pickle=True)"
   ]
  },
  {
   "cell_type": "code",
   "execution_count": 5,
   "metadata": {},
   "outputs": [
    {
     "name": "stdout",
     "output_type": "stream",
     "text": [
      "2336\n"
     ]
    }
   ],
   "source": [
    "#cost_delta=np.array(cost_delta)\n",
    "#print(cost_delta.shape)\n",
    "print(len(cost_deltas[1]))"
   ]
  },
  {
   "cell_type": "code",
   "execution_count": 6,
   "metadata": {},
   "outputs": [],
   "source": [
    "from pyqtgraph.opengl import GLMeshItem\n",
    "from pyqtgraph.opengl import MeshData\n",
    "import pyqtgraph.opengl as gl\n",
    "import numpy as np\n",
    "import functools \n",
    "\n",
    "class GLBarGraphItem(GLMeshItem):\n",
    "    def __init__(self, pos, size):\n",
    "        \"\"\"\n",
    "        pos is (...,3) array of the bar positions (the corner of each bar)\n",
    "        size is (...,3) array of the sizes of each bar\n",
    "        \"\"\"\n",
    "        self.pos=pos\n",
    "        print('pos',self.pos.shape)\n",
    "        self.size=size\n",
    "        print(self.size.shape)\n",
    "        nCubes = functools.reduce(lambda a,b: a*b, self.pos.shape[:-1])\n",
    "        cubeVerts = np.mgrid[0:2,0:2,0:2].reshape(3,8).transpose().reshape(1,8,3)\n",
    "        cubeFaces = np.array([\n",
    "            [0,1,2], [3,2,1],\n",
    "            [4,5,6], [7,6,5],\n",
    "            [0,1,4], [5,4,1],\n",
    "            [2,3,6], [7,6,3],\n",
    "            [0,2,4], [6,4,2],\n",
    "            [1,3,5], [7,5,3]]).reshape(1,12,3)\n",
    "        self.size = self.size.reshape((nCubes, 1, 3))\n",
    "        self.pos = self.pos.reshape((nCubes, 1, 3))\n",
    "        verts = cubeVerts * self.size + self.pos\n",
    "        faces = cubeFaces + (np.arange(nCubes) * 8).reshape(nCubes,1,1)\n",
    "        md = gl.MeshData(verts.reshape(nCubes*8,3), faces.reshape(nCubes*12,3))\n",
    "        \n",
    "        GLMeshItem.__init__(self, meshdata=md, shader='shaded', smooth=False)\n",
    "        "
   ]
  },
  {
   "cell_type": "code",
   "execution_count": 7,
   "metadata": {},
   "outputs": [
    {
     "data": {
      "text/plain": [
       "\"\\napp = QtGui.QApplication([])\\nl0 = QtGui.QGridLayout()\\ntop = QtGui.QWidget()\\nw = gl.GLViewWidget()\\ntop.resize(1000,600)\\n#w.opts['distance'] = 100\\n#w.showMaximized()\\n#w.setWindowTitle('pyqtgraph example: GLViewWidget')\\n\\nax = gl.GLAxisItem()\\nax.setSize(20,20,20)\\nw.addItem(ax)\\n\\npos = np.mgrid[0:100, 0:100, 0:1].reshape(3,100,100).transpose(1,2,0)\\n\\nsize = np.empty((100,100,3))\\nsize[...,0:2] = 0.4\\nsize[...,2] = 10*cost_delta[0,:].reshape(100,100)\\n  \\nbg = GLBarGraphItem(pos, size)\\nw.addItem(bg)\\nslider = QSlider(0,1000)\\nslider.setOrientation(Qt.Horizontal)\\nl0.addWidget(slider,0,0,1,10)\\nl0.addWidget(w,2,2,14,14)\\nslider.slider.valueChanged.connect(update_plot)\\ntop.setLayout(l0)\\ntop.show()\\n\\ndef updated_plot():\\n    slider.\\n  \\nif __name__ == '__main__':\\n    import sys\\n    if (sys.flags.interactive != 1) or not hasattr(QtCore, 'PYQT_VERSION'):\\n        QtGui.QApplication.instance().exec_()\""
      ]
     },
     "execution_count": 7,
     "metadata": {},
     "output_type": "execute_result"
    }
   ],
   "source": [
    "from pyqtgraph.Qt import QtCore, QtGui\n",
    "import pyqtgraph.opengl as gl\n",
    "import numpy as np\n",
    "from PyQt5.QtCore import Qt\n",
    "from PyQt5.QtWidgets import QApplication, QHBoxLayout, QLabel, QSizePolicy, QSlider, QSpacerItem, QVBoxLayout, QWidget, QComboBox\n",
    "'''\n",
    "app = QtGui.QApplication([])\n",
    "l0 = QtGui.QGridLayout()\n",
    "top = QtGui.QWidget()\n",
    "w = gl.GLViewWidget()\n",
    "top.resize(1000,600)\n",
    "#w.opts['distance'] = 100\n",
    "#w.showMaximized()\n",
    "#w.setWindowTitle('pyqtgraph example: GLViewWidget')\n",
    "\n",
    "ax = gl.GLAxisItem()\n",
    "ax.setSize(20,20,20)\n",
    "w.addItem(ax)\n",
    "\n",
    "pos = np.mgrid[0:100, 0:100, 0:1].reshape(3,100,100).transpose(1,2,0)\n",
    "\n",
    "size = np.empty((100,100,3))\n",
    "size[...,0:2] = 0.4\n",
    "size[...,2] = 10*cost_delta[0,:].reshape(100,100)\n",
    "  \n",
    "bg = GLBarGraphItem(pos, size)\n",
    "w.addItem(bg)\n",
    "slider = QSlider(0,1000)\n",
    "slider.setOrientation(Qt.Horizontal)\n",
    "l0.addWidget(slider,0,0,1,10)\n",
    "l0.addWidget(w,2,2,14,14)\n",
    "slider.slider.valueChanged.connect(update_plot)\n",
    "top.setLayout(l0)\n",
    "top.show()\n",
    "\n",
    "def updated_plot():\n",
    "    slider.\n",
    "  \n",
    "if __name__ == '__main__':\n",
    "    import sys\n",
    "    if (sys.flags.interactive != 1) or not hasattr(QtCore, 'PYQT_VERSION'):\n",
    "        QtGui.QApplication.instance().exec_()'''"
   ]
  },
  {
   "cell_type": "code",
   "execution_count": null,
   "metadata": {},
   "outputs": [
    {
     "name": "stdout",
     "output_type": "stream",
     "text": [
      "pos (100, 100, 3)\n",
      "(100, 100, 3)\n"
     ]
    }
   ],
   "source": [
    "\n",
    "\n",
    "class EPVizWindow(QtGui.QMainWindow):\n",
    "    def __init__(self, cost_deltas,parent=None):\n",
    "        super(EPVizWindow, self).__init__(parent)\n",
    "        pg.setConfigOptions(imageAxisOrder='row-major')\n",
    "        self.l0 = QtGui.QGridLayout()\n",
    "        self.top = QtGui.QWidget()\n",
    "        self.w = gl.GLViewWidget()\n",
    "        self.top.resize(1500,900)\n",
    "        self.cost_delta=np.array(cost_deltas[0])\n",
    "        #w.opts['distance'] = 100\n",
    "        #w.showMaximized()\n",
    "        #w.setWindowTitle('pyqtgraph example: GLViewWidget')\n",
    "        scaler = MinMaxScaler()\n",
    "        self.cost_delta=scaler.fit_transform(self.cost_delta.T).T\n",
    "        self.ax = gl.GLAxisItem()\n",
    "        self.ax.setSize(20,20,20)\n",
    "        self.w.addItem(self.ax)\n",
    "\n",
    "        pos = np.mgrid[0:100, 0:100, 0:1].reshape(3,100,100).transpose(1,2,0)\n",
    "\n",
    "        size = np.empty((100,100,3))\n",
    "        size[...,0:2] = 0.4\n",
    "        size[...,2] = 10*self.cost_delta[0,:].reshape(100,100)\n",
    "    \n",
    "        self.bg = GLBarGraphItem(pos, size)\n",
    "        self.w.addItem(self.bg)\n",
    "        self.slider = QSlider(Qt.Horizontal)\n",
    "        self.slider.setOrientation(Qt.Horizontal)\n",
    "        self.slider.setMinimum(0)\n",
    "        self.slider.setMaximum(6000)\n",
    "        self.l0.addWidget(self.slider,0,0,1,10)\n",
    "        self.l0.addWidget(self.w,2,2,14,14)\n",
    "        self.slider.valueChanged.connect(self.update_plot)\n",
    "        \n",
    "        self.ensemble_selector=QComboBox()\n",
    "        self.ensemble_selector.addItem('1')\n",
    "        self.ensemble_selector.addItem('2')\n",
    "        self.l0.addWidget(self.ensemble_selector,1,0,1,1)\n",
    "        self.top.setLayout(self.l0)\n",
    "        self.top.show()\n",
    "\n",
    "    def update_plot(self):\n",
    "        ix=int(self.slider.value())\n",
    "        #print(ix)\n",
    "        pos = np.mgrid[0:100, 0:100, 0:1].reshape(3,100,100).transpose(1,2,0)\n",
    "        size = np.empty((100,100,3))\n",
    "        size[...,0:2] = 0.4\n",
    "        size[...,2] = 10*self.cost_delta[ix,:].reshape(100,100)\n",
    "        print('max',np.max(self.cost_delta[ix,:]))\n",
    "        #print(self.cost_delta[ix,:])\n",
    "        #self.bg.pos=pos\n",
    "        #self.bg.size=size\n",
    "        self.w.removeItem(self.bg)\n",
    "        self.bg=GLBarGraphItem(pos, size)\n",
    "        self.w.addItem(self.bg)\n",
    "        self.w.update()\n",
    "        self.w.show()\n",
    "\n",
    "def main():    \n",
    "    app = QtGui.QApplication(sys.argv)\n",
    "    ex = EPVizWindow(cost_deltas)\n",
    "    sys.exit(app.exec_())\n",
    "\n",
    "a = main()\n",
    "a.show()\n"
   ]
  },
  {
   "cell_type": "code",
   "execution_count": null,
   "metadata": {
    "scrolled": true
   },
   "outputs": [],
   "source": [
    "import cv2\n",
    "from scipy import io\n",
    "import sys\n",
    "sys.path.insert(0, '/home/maria/Documents/EnsemblePursuitViz/EnsemblePursuit_modified')\n",
    "from EnsemblePursuit import new_ensemble\n",
    "from EnsemblePursuit import EnsemblePursuit\n",
    "from EnsemblePursuit import utils\n",
    "\n",
    "def test_train_split(data,stim):\n",
    "    unique, counts = np.unique(stim.flatten(), return_counts=True)\n",
    "    count_dict=dict(zip(unique, counts))\n",
    "\n",
    "    keys_with_enough_data=[]\n",
    "    for key in count_dict.keys():\n",
    "        if count_dict[key]==2:\n",
    "            keys_with_enough_data.append(key)\n",
    "\n",
    "    filtered_stims=np.isin(stim.flatten(),keys_with_enough_data)\n",
    "\n",
    "    #Arrange data so that responses with the same stimulus are adjacent\n",
    "    z=stim.flatten()[np.where(filtered_stims)[0]]\n",
    "    sortd=np.argsort(z)\n",
    "    istim=np.sort(z)\n",
    "    X=data[filtered_stims,:]\n",
    "    out=X[sortd,:].copy()\n",
    "\n",
    "    x_train=out[::2,:]\n",
    "    y_train=istim[::2]\n",
    "    x_test=out[1::2,:]\n",
    "    y_test=istim[1::2]\n",
    "    \n",
    "    return x_train, x_test, y_train, y_test\n",
    "img=io.loadmat('/media/maria/DATA1/Documents/old_data/images_natimg2800_all.mat')['imgs']\n",
    "ishape = (img.shape[0]//5, img.shape[1]//5)\n",
    "images = np.zeros((2800, ) + (ishape[0], ishape[1]))\n",
    "for j in range(images.shape[0]):\n",
    "    images[j] = cv2.resize(img[:,:,j], (ishape[1], ishape[0]))\n",
    "    \n",
    "    \n",
    "#from EnsemblePursuit.utils import test_train_split,subtract_spont\n",
    "print(np.mean(images))\n",
    "images = images.reshape((2800, -1))\n",
    "#images = np.abs(images - 128)\n",
    "images = utils.zscore(images, axis=1)\n",
    "\n",
    "#images /= np.sum(images**2, axis=1)[:, np.newaxis]**.5\n",
    "\n",
    "#model = PCA(n_components = 100).fit(images)\n",
    "#comps = model.components_\n",
    "#images @ comps.T\n",
    "\n",
    "model=EnsemblePursuit(n_components=1,lam=0.01,n_kmeans=25)\n",
    "model.fit(dat)\n",
    "X=model.components_\n",
    "stim = data['stim']['istim'][0][0].astype(np.int32)\n",
    "\n",
    "#V = X[isort[:150], :].T #\n",
    "x_train,x_test,y_train,y_test=test_train_split(X,stim)\n",
    "y_train=y_train-1\n",
    "images_ = images[y_train]"
   ]
  },
  {
   "cell_type": "code",
   "execution_count": null,
   "metadata": {},
   "outputs": [],
   "source": [
    "from scipy.ndimage import gaussian_filter\n",
    "import time\n",
    "import matplotlib.pyplot as plt\n",
    "av_resp = (x_train + x_test)/2\n",
    "start=time.time()\n",
    "B = np.linalg.solve(images_.T @ images_ +  100 * np.eye(images_.shape[1]), images_.T @ av_resp)\n",
    "end=time.time()\n",
    "print(B.shape)\n",
    "print(end-start)\n",
    "B = np.reshape(B,(13,54) )\n",
    "#B = gaussian_filter(B, (.5, .5, 0))\n",
    "plt.imshow(B)\n",
    "plt.show()"
   ]
  },
  {
   "cell_type": "code",
   "execution_count": null,
   "metadata": {},
   "outputs": [],
   "source": [
    "print(x_train.shape)\n",
    "print(y_train.shape)\n",
    "print(av_resp.shape)\n",
    "print(images_.shape)"
   ]
  }
 ],
 "metadata": {
  "kernelspec": {
   "display_name": "Python 3",
   "language": "python",
   "name": "python3"
  },
  "language_info": {
   "codemirror_mode": {
    "name": "ipython",
    "version": 3
   },
   "file_extension": ".py",
   "mimetype": "text/x-python",
   "name": "python",
   "nbconvert_exporter": "python",
   "pygments_lexer": "ipython3",
   "version": "3.7.4"
  }
 },
 "nbformat": 4,
 "nbformat_minor": 2
}
