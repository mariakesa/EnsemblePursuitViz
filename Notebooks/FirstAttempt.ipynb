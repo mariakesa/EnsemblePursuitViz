{
 "cells": [
  {
   "cell_type": "code",
   "execution_count": 13,
   "metadata": {},
   "outputs": [],
   "source": [
    "import sys\n",
    "sys.path.insert(0, '/home/maria/Documents/EnsemblePursuitViz/EnsemblePursuit_modified')\n",
    "from EnsemblePursuit import new_ensemble\n",
    "from scipy.io import loadmat\n",
    "import numpy as np"
   ]
  },
  {
   "cell_type": "code",
   "execution_count": 10,
   "metadata": {},
   "outputs": [
    {
     "name": "stdout",
     "output_type": "stream",
     "text": [
      "dict_keys(['__header__', '__version__', '__globals__', 'db', 'med', 'stat', 'stim'])\n"
     ]
    }
   ],
   "source": [
    "data=loadmat('/media/maria/DATA1/Documents/old_data/natimg2800_white_M170717_MP034_2017-09-14.mat')\n",
    "print(data.keys())"
   ]
  },
  {
   "cell_type": "code",
   "execution_count": 19,
   "metadata": {},
   "outputs": [
    {
     "name": "stdout",
     "output_type": "stream",
     "text": [
      "(4040, 9479)\n",
      "[[  0.         54.005295  164.82872   ...   0.          0.\n",
      "    0.       ]\n",
      " [ 19.92929     8.745245    0.        ...   0.          0.\n",
      "    0.       ]\n",
      " [ 20.75058    26.050444   13.1513    ...   0.          0.\n",
      "    0.       ]\n",
      " ...\n",
      " [  6.8490963   2.4447098   0.        ...   0.          0.\n",
      "    0.       ]\n",
      " [  6.450582    0.          0.        ...   0.          0.\n",
      "    0.       ]\n",
      " [  3.578312    0.          7.9258285 ...   0.          0.\n",
      "    0.       ]]\n",
      "(4040, 10000)\n"
     ]
    }
   ],
   "source": [
    "dat=data['stim'][0]['resp'][0]\n",
    "#dat['stim'][0]['resp'][0]\n",
    "print(dat.shape)\n",
    "dat=np.pad(dat, ((0,0),(0, 10000-9479)), 'constant', constant_values=(0, 0))\n",
    "print(dat)\n",
    "print(dat.shape)"
   ]
  }
 ],
 "metadata": {
  "kernelspec": {
   "display_name": "Python 3",
   "language": "python",
   "name": "python3"
  },
  "language_info": {
   "codemirror_mode": {
    "name": "ipython",
    "version": 3
   },
   "file_extension": ".py",
   "mimetype": "text/x-python",
   "name": "python",
   "nbconvert_exporter": "python",
   "pygments_lexer": "ipython3",
   "version": "3.7.4"
  }
 },
 "nbformat": 4,
 "nbformat_minor": 2
}
