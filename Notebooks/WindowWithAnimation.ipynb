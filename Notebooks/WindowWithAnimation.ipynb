{
 "cells": [
  {
   "cell_type": "code",
   "execution_count": null,
   "metadata": {},
   "outputs": [],
   "source": [
    "from pyqtgraph.Qt import QtCore, QtGui\n",
    "from pyqtgraph.Qt import QtCore, QtGui\n",
    "import pyqtgraph.opengl as gl\n",
    "import numpy as np\n",
    "import sys\n",
    "from PyQt5.QtCore import Qt\n",
    "from PyQt5.QtWidgets import QApplication, QHBoxLayout, QLabel, QSizePolicy, QSlider, QSpacerItem, QVBoxLayout, QWidget, QComboBox\n",
    "import sys\n",
    "sys.path.insert(0, '/home/maria/Documents/EnsemblePursuitViz/EnsemblePursuit_modified')\n",
    "from EnsemblePursuit import new_ensemble\n",
    "from EnsemblePursuit import EnsemblePursuit\n",
    "from utils import zscore\n",
    "from scipy.io import loadmat\n",
    "import numpy as np\n",
    "import pyqtgraph as pg\n",
    "from sklearn.preprocessing import MinMaxScaler\n",
    "import cv2\n",
    "\n",
    "from PyQt5.QtWidgets import *\n",
    "from PyQt5.QtCore import *\n",
    "from PyQt5.QtGui import *\n",
    "import sys\n",
    "\n",
    "app = QApplication(sys.argv)\n",
    "window = QMainWindow()\n",
    "window.show() # IMPORTANT!!!!! Windows are hidden by default.\n",
    "# Start the event loop.\n",
    "app.exec_()"
   ]
  }
 ],
 "metadata": {
  "kernelspec": {
   "display_name": "Python 3",
   "language": "python",
   "name": "python3"
  },
  "language_info": {
   "codemirror_mode": {
    "name": "ipython",
    "version": 3
   },
   "file_extension": ".py",
   "mimetype": "text/x-python",
   "name": "python",
   "nbconvert_exporter": "python",
   "pygments_lexer": "ipython3",
   "version": "3.7.4"
  }
 },
 "nbformat": 4,
 "nbformat_minor": 2
}
